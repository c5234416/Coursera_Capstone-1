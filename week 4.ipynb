{
    "cells": [
        {
            "cell_type": "markdown",
            "metadata": {
                "collapsed": true
            },
            "source": "# Using Machine Learning to locate the best places to open a burger joint.\nhttps://github.com/mbrook14/Coursera_Capstone\n\n1. Introduction\nFor the capstone, i will be finding the best location to open a burger joint in Toronto Canada by using machine learning clusters. The purpose of the clustering is to find arers that have a high percentage of burger joint and compare then to areas that have very few burger joints if any. Our client is looking for an area with little to no competition so that she may open a thriving burger joint business.\n\n2.Business Problem\nToronto has plenty of options when it comes to getting a tasty burger which may cause problems for someone looking to open a buger joint in the city. Our problem is this over sacturation, the way we want to solve the prom for our client is by locating an area where a new burger restaurant can be successful.\n\n3. Target Audience\nOur services isn't limited to our individual client seeking services. Anyone looking to open a burger joint or even other food venues can take advantage of the data given.\n\n4.Data\nList of neighborhoods\nlatitude and longtitude of these neighbor hoods\nVenue data  related to burger joints, this will help us find the perfect fit for our current and future clients.\n5. Extracting Data\nPulling information on Toronto neighborhoods using wikipedia\nUsing geocoder to provide the latitude and longitude information of these neighborhoods.\nUtilizing Foursquare api for data information."
        },
        {
            "cell_type": "code",
            "execution_count": null,
            "metadata": {},
            "outputs": [],
            "source": ""
        }
    ],
    "metadata": {
        "kernelspec": {
            "display_name": "Python 3.6",
            "language": "python",
            "name": "python3"
        },
        "language_info": {
            "codemirror_mode": {
                "name": "ipython",
                "version": 3
            },
            "file_extension": ".py",
            "mimetype": "text/x-python",
            "name": "python",
            "nbconvert_exporter": "python",
            "pygments_lexer": "ipython3",
            "version": "3.6.9"
        }
    },
    "nbformat": 4,
    "nbformat_minor": 1
}